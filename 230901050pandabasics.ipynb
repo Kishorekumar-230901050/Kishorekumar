{
 "cells": [
  {
   "cell_type": "code",
   "execution_count": 4,
   "id": "dba75997",
   "metadata": {},
   "outputs": [
    {
     "name": "stdout",
     "output_type": "stream",
     "text": [
      "Empty DataFrame\n",
      "Columns: []\n",
      "Index: []\n"
     ]
    }
   ],
   "source": [
    "import pandas as pd\n",
    "df=pd.DataFrame()\n",
    "print(df)"
   ]
  },
  {
   "cell_type": "code",
   "execution_count": 10,
   "id": "aa04fa90",
   "metadata": {},
   "outputs": [
    {
     "name": "stdout",
     "output_type": "stream",
     "text": [
      "  emp  idt\n",
      "0   a   10\n",
      "1   b   20\n",
      "2   c   30\n",
      "3   d   40\n",
      "4   e   50\n"
     ]
    }
   ],
   "source": [
    "emp=pd.Series([\"a\",\"b\",\"c\",\"d\",\"e\"])\n",
    "idt=pd.Series([10,20,30,40,50])\n",
    "f={'emp':emp,'idt':idt}\n",
    "r=pd.DataFrame(f)\n",
    "print(r)"
   ]
  },
  {
   "cell_type": "code",
   "execution_count": 16,
   "id": "cae96d07",
   "metadata": {},
   "outputs": [
    {
     "name": "stdout",
     "output_type": "stream",
     "text": [
      "0    a\n",
      "1    b\n",
      "2    c\n",
      "3    d\n",
      "4    e\n",
      "Name: emp, dtype: object\n"
     ]
    }
   ],
   "source": [
    "#Extracting a colum\n",
    "print(r['emp'])"
   ]
  },
  {
   "cell_type": "code",
   "execution_count": 18,
   "id": "05d62955",
   "metadata": {},
   "outputs": [
    {
     "name": "stdout",
     "output_type": "stream",
     "text": [
      "  emp  idt  Age\n",
      "0   a   10   20\n",
      "1   b   20   35\n",
      "2   c   30   25\n",
      "3   d   40   45\n",
      "4   e   50   32\n"
     ]
    }
   ],
   "source": [
    "#Adding a new column\n",
    "r[\"Age\"]=pd.Series([20,35,25,45,32])\n",
    "print(r)"
   ]
  },
  {
   "cell_type": "code",
   "execution_count": 20,
   "id": "bd60a553",
   "metadata": {},
   "outputs": [
    {
     "name": "stdout",
     "output_type": "stream",
     "text": [
      "  emp  idt\n",
      "0   a   10\n",
      "1   b   20\n",
      "2   c   30\n",
      "3   d   40\n",
      "4   e   50\n"
     ]
    }
   ],
   "source": [
    "#delete an existing column\n",
    "del r['Age']\n",
    "print(r)"
   ]
  },
  {
   "cell_type": "code",
   "execution_count": 21,
   "id": "c45527e2",
   "metadata": {},
   "outputs": [
    {
     "name": "stdout",
     "output_type": "stream",
     "text": [
      "  emp  idt\n",
      "1   b   20\n",
      "2   c   30\n"
     ]
    }
   ],
   "source": [
    "#slicing of rows\n",
    "print(r[1:3])"
   ]
  },
  {
   "cell_type": "code",
   "execution_count": 32,
   "id": "bf0718be",
   "metadata": {},
   "outputs": [
    {
     "name": "stdout",
     "output_type": "stream",
     "text": [
      "  emp  idt\n",
      "0   a   10\n",
      "1   b   20\n",
      "2   c   30\n",
      "3   d   40\n",
      "4   e   50\n",
      "  emp  idt\n",
      "0   a   10\n",
      "1   b   20\n",
      "2   c   30\n",
      "3   d   40\n",
      "4   e   50\n",
      "0   f   67\n",
      "1   g   69\n"
     ]
    }
   ],
   "source": [
    "# addition of rows\n",
    "emp=pd.Series([\"a\",\"b\",\"c\",\"d\",\"e\"])\n",
    "idt=pd.Series([10,20,30,40,50])\n",
    "f={'emp':emp,'idt':idt}\n",
    "r=pd.DataFrame(f)\n",
    "print(r)\n",
    "d2=pd.DataFrame([['f',67],['g',69]],columns=['emp','idt'])\n",
    "print(pd.concat([r,d2]))"
   ]
  },
  {
   "cell_type": "code",
   "execution_count": 33,
   "id": "b686ad94",
   "metadata": {},
   "outputs": [
    {
     "name": "stdout",
     "output_type": "stream",
     "text": [
      "  emp  idt\n",
      "0   a   10\n",
      "1   b   20\n",
      "3   d   40\n",
      "4   e   50\n"
     ]
    }
   ],
   "source": [
    "#delete an existing row\n",
    "print(r.drop(2))"
   ]
  }
 ],
 "metadata": {
  "kernelspec": {
   "display_name": "Python 3 (ipykernel)",
   "language": "python",
   "name": "python3"
  },
  "language_info": {
   "codemirror_mode": {
    "name": "ipython",
    "version": 3
   },
   "file_extension": ".py",
   "mimetype": "text/x-python",
   "name": "python",
   "nbconvert_exporter": "python",
   "pygments_lexer": "ipython3",
   "version": "3.11.5"
  }
 },
 "nbformat": 4,
 "nbformat_minor": 5
}
