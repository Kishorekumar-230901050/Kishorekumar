{
 "cells": [
  {
   "cell_type": "code",
   "execution_count": 5,
   "id": "650751be",
   "metadata": {},
   "outputs": [
    {
     "name": "stdout",
     "output_type": "stream",
     "text": [
      "Empty DataFrame\n",
      "Columns: []\n",
      "Index: []\n"
     ]
    }
   ],
   "source": [
    "import pandas as pd\n",
    "df=pd.DataFrame()\n",
    "print(df)\n"
   ]
  },
  {
   "cell_type": "code",
   "execution_count": 16,
   "id": "f8ea329b",
   "metadata": {
    "scrolled": true
   },
   "outputs": [
    {
     "name": "stdout",
     "output_type": "stream",
     "text": [
      "\n",
      " series in data frames \n",
      "\n",
      "      emp  id\n",
      "0     uma  10\n",
      "1    siva  20\n",
      "2  sindhu  30\n",
      "3    ravi  40\n"
     ]
    }
   ],
   "source": [
    "emp=pd.Series(['uma','siva','sindhu','ravi'])\n",
    "id=pd.Series([10,20,30,40])\n",
    "frame={'emp':emp,'id':id}\n",
    "result=pd.DataFrame(frame)\n",
    "print(\"\\n series in data frames \\n\")\n",
    "print(result)\n"
   ]
  },
  {
   "cell_type": "code",
   "execution_count": 15,
   "id": "bf662509",
   "metadata": {},
   "outputs": [
    {
     "name": "stdout",
     "output_type": "stream",
     "text": [
      "\n",
      " extracting one columnn \n",
      "\n",
      "0       uma\n",
      "1      siva\n",
      "2    sindhu\n",
      "3      ravi\n",
      "Name: emp, dtype: object\n"
     ]
    }
   ],
   "source": [
    "emp=pd.Series(['uma','siva','sindhu','ravi'])\n",
    "id=pd.Series([10,20,30,40])\n",
    "frame={'emp':emp,'id':id}\n",
    "result=pd.DataFrame(frame)\n",
    "print(\"\\n extracting one columnn \\n\")\n",
    "print(result['emp'])"
   ]
  },
  {
   "cell_type": "code",
   "execution_count": 18,
   "id": "1c846fcf",
   "metadata": {},
   "outputs": [
    {
     "name": "stdout",
     "output_type": "stream",
     "text": [
      "      emp  id  age\n",
      "0     uma  10   20\n",
      "1    siva  20   25\n",
      "2  sindhu  30   30\n",
      "3    ravi  40   50\n"
     ]
    }
   ],
   "source": [
    "emp=pd.Series(['uma','siva','sindhu','ravi'])\n",
    "id=pd.Series([10,20,30,40])\n",
    "frame={'emp':emp,'id':id}\n",
    "result=pd.DataFrame(frame)\n",
    "\n",
    "result['age']=pd.Series([20,25,30,50])\n",
    "print(result)"
   ]
  },
  {
   "cell_type": "code",
   "execution_count": 21,
   "id": "7c64f73c",
   "metadata": {},
   "outputs": [
    {
     "name": "stdout",
     "output_type": "stream",
     "text": [
      "      emp  id\n",
      "0     uma  10\n",
      "1    siva  20\n",
      "2  sindhu  30\n",
      "3    ravi  40\n"
     ]
    }
   ],
   "source": [
    "emp=pd.Series(['uma','siva','sindhu','ravi'])\n",
    "id=pd.Series([10,20,30,40])\n",
    "frame={'emp':emp,'id':id}\n",
    "result=pd.DataFrame(frame)\n",
    "\n",
    "\n",
    "result['age']=pd.Series([20,25,30,50])\n",
    "del result['age']\n",
    "print(result)\n"
   ]
  },
  {
   "cell_type": "code",
   "execution_count": 25,
   "id": "736dd727",
   "metadata": {},
   "outputs": [
    {
     "name": "stdout",
     "output_type": "stream",
     "text": [
      " \n",
      "extarcting a row :\n",
      "  emp    siva\n",
      "id       20\n",
      "Name: 1, dtype: object\n"
     ]
    }
   ],
   "source": [
    "print(\" \\nextarcting a row :\\n \",result.loc[1])"
   ]
  },
  {
   "cell_type": "code",
   "execution_count": 23,
   "id": "9acba775",
   "metadata": {},
   "outputs": [
    {
     "name": "stdout",
     "output_type": "stream",
     "text": [
      " slice row : \n",
      "        emp  id\n",
      "1    siva  20\n",
      "2  sindhu  30\n"
     ]
    }
   ],
   "source": [
    "print(\" slice row : \\n \",result[1:3])"
   ]
  },
  {
   "cell_type": "code",
   "execution_count": 31,
   "id": "12a7db60",
   "metadata": {},
   "outputs": [
    {
     "name": "stdout",
     "output_type": "stream",
     "text": [
      "adding of a new value \n",
      "        emp  id\n",
      "0     uma  10\n",
      "1    siva  20\n",
      "2  sindhu  30\n",
      "3    ravi  40\n",
      "0     anu  20\n",
      "1     jim  19\n"
     ]
    }
   ],
   "source": [
    "emp=pd.Series(['uma','siva','sindhu','ravi'])\n",
    "id=pd.Series([10,20,30,40])\n",
    "frame={'emp':emp,'id':id}\n",
    "result=pd.DataFrame(frame)\n",
    "\n",
    "\n",
    "\n",
    "d2=pd.DataFrame([['anu',20],['jim',19]],columns=['emp','id'])\n",
    "print(\"adding of a new value \\n \",pd.concat([result,d2]))"
   ]
  },
  {
   "cell_type": "code",
   "execution_count": null,
   "id": "c5204298",
   "metadata": {},
   "outputs": [],
   "source": [
    "print(\"result\")"
   ]
  }
 ],
 "metadata": {
  "kernelspec": {
   "display_name": "Python 3 (ipykernel)",
   "language": "python",
   "name": "python3"
  },
  "language_info": {
   "codemirror_mode": {
    "name": "ipython",
    "version": 3
   },
   "file_extension": ".py",
   "mimetype": "text/x-python",
   "name": "python",
   "nbconvert_exporter": "python",
   "pygments_lexer": "ipython3",
   "version": "3.11.5"
  }
 },
 "nbformat": 4,
 "nbformat_minor": 5
}
