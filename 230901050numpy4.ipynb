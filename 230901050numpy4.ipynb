{
 "cells": [
  {
   "cell_type": "code",
   "execution_count": 4,
   "id": "2d2c09c8",
   "metadata": {},
   "outputs": [
    {
     "name": "stdout",
     "output_type": "stream",
     "text": [
      "[20 40  5 70 10]\n",
      "[6 2 9 7 1]\n",
      "[26 42 14 77 11]\n",
      "[14 38 -4 63  9]\n",
      "[120  80  45 490  10]\n",
      "[ 3.33333333 20.          0.55555556 10.         10.        ]\n"
     ]
    }
   ],
   "source": [
    "import numpy as np\n",
    "a1=[20,40,5,70,10]\n",
    "a2=[6,2,9,7,1]\n",
    "a=np.array(a1)\n",
    "b=np.array(a2)\n",
    "print(a)\n",
    "print(b)\n",
    "print(a+b)\n",
    "print(a-b)\n",
    "print(a*b)\n",
    "print(a/b)\n",
    "\n"
   ]
  },
  {
   "cell_type": "code",
   "execution_count": 7,
   "id": "4e034271",
   "metadata": {},
   "outputs": [
    {
     "name": "stdout",
     "output_type": "stream",
     "text": [
      "745\n",
      "scalar values 3\n",
      "array [20 40  5 70 10]\n",
      "result [ 60 120  15 210  30]\n"
     ]
    }
   ],
   "source": [
    "import numpy as np\n",
    "a=np.array(a1)\n",
    "b=np.array(a2)\n",
    "print(a.dot(b))\n",
    "sclr=3\n",
    "print(\"scalar values\",sclr)\n",
    "\n",
    "print(\"array\",a)\n",
    "\n",
    "print(\"result\",a*sclr)\n",
    "\n"
   ]
  },
  {
   "cell_type": "code",
   "execution_count": 8,
   "id": "eca63934",
   "metadata": {},
   "outputs": [
    {
     "name": "stdout",
     "output_type": "stream",
     "text": [
      "[[1 6]\n",
      " [0 4]]\n"
     ]
    }
   ],
   "source": [
    "import numpy as np\n",
    "a=np.array([[10,20],[30,40]])\n",
    "b=np.array([[3,7],[5,9]])\n",
    "print(a%b)"
   ]
  },
  {
   "cell_type": "code",
   "execution_count": 10,
   "id": "f2971f51",
   "metadata": {},
   "outputs": [
    {
     "name": "stdout",
     "output_type": "stream",
     "text": [
      "[10, 7, 2]\n",
      "[6, 5, 3]\n",
      "[4 2 5]\n"
     ]
    }
   ],
   "source": [
    "def my_fun(x,y):\n",
    "    if x>y:\n",
    "        return x-y\n",
    "    else:\n",
    "        return x+y\n",
    "    \n",
    "a1=[10,7,2]\n",
    "a2=[6,5,3]\n",
    "vect_fun=np.vectorize(my_fun)\n",
    "print(a1)\n",
    "print(a2)\n",
    "print(vect_fun(a1,a2))\n",
    "\n",
    "\n"
   ]
  },
  {
   "cell_type": "code",
   "execution_count": null,
   "id": "e742e3c3",
   "metadata": {},
   "outputs": [],
   "source": []
  }
 ],
 "metadata": {
  "kernelspec": {
   "display_name": "Python 3 (ipykernel)",
   "language": "python",
   "name": "python3"
  },
  "language_info": {
   "codemirror_mode": {
    "name": "ipython",
    "version": 3
   },
   "file_extension": ".py",
   "mimetype": "text/x-python",
   "name": "python",
   "nbconvert_exporter": "python",
   "pygments_lexer": "ipython3",
   "version": "3.11.5"
  }
 },
 "nbformat": 4,
 "nbformat_minor": 5
}
